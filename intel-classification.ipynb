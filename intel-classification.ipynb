{
 "cells": [
  {
   "cell_type": "markdown",
   "metadata": {
    "_uuid": "1c7cc69b15d655cde883764442a39b436c395b65",
    "colab_type": "text",
    "id": "rsRf6HQcD99y"
   },
   "source": [
    "**Neural Networks Course - Intel Image Classification**\n",
    "\n",
    "Kaggle problem link: https://www.kaggle.com/puneet6060/intel-image-classification\n",
    "\n",
    "CNN which predicts upto 6 class labels."
   ]
  },
  {
   "cell_type": "code",
   "execution_count": null,
   "metadata": {
    "_cell_guid": "b1076dfc-b9ad-4769-8c92-a6c4dae69d19",
    "_uuid": "8f2839f25d086af736a60e9eeb907d3b93b6e0e5",
    "colab": {
     "base_uri": "https://localhost:8080/",
     "height": 80
    },
    "colab_type": "code",
    "id": "39-axueGD99z",
    "outputId": "a7670a72-f9b2-43f4-fd60-3016f7f3050f"
   },
   "outputs": [],
   "source": [
    "import tensorflow.keras.layers as Layers\n",
    "import tensorflow.keras.activations as Actications\n",
    "import tensorflow.keras.models as Models\n",
    "import tensorflow.keras.optimizers as Optimizer\n",
    "import tensorflow.keras.metrics as Metrics\n",
    "import tensorflow.keras.utils as Utils\n",
    "from keras.utils.vis_utils import model_to_dot\n",
    "import os\n",
    "import matplotlib.pyplot as plot\n",
    "import cv2\n",
    "import numpy as np\n",
    "from sklearn.utils import shuffle\n",
    "from sklearn.metrics import confusion_matrix as CM\n",
    "from random import randint\n",
    "from IPython.display import SVG\n",
    "import matplotlib.gridspec as gridspec"
   ]
  },
  {
   "cell_type": "code",
   "execution_count": null,
   "metadata": {
    "colab": {},
    "colab_type": "code",
    "id": "v9TStHcvHIv3"
   },
   "outputs": [],
   "source": [
    "LABELS = {\n",
    "    'buildings': 0,\n",
    "    'forest': 1,\n",
    "    'glacier': 2,\n",
    "    'mountain': 3,\n",
    "    'sea': 4,\n",
    "    'street': 5,\n",
    "}"
   ]
  },
  {
   "cell_type": "code",
   "execution_count": null,
   "metadata": {
    "_cell_guid": "79c7e3d0-c299-4dcb-8224-4455121ee9b0",
    "_uuid": "d629ff2d2480ee46fbb7e2d37f6b5fab8052498a",
    "colab": {},
    "colab_type": "code",
    "id": "9XJGRaPkD992"
   },
   "outputs": [],
   "source": [
    "def get_images(directory):\n",
    "    Images = []\n",
    "    Labels = []\n",
    "    label = 0\n",
    "    \n",
    "    for label_name in os.listdir(directory):\n",
    "        lable = LABELS[label_name]\n",
    "        \n",
    "        #Extracting the file name of the image from Class Label folder\n",
    "        for image_file in os.listdir(directory + label_name):\n",
    "            image = cv2.imread(directory + label_name + r'/' + image_file)\n",
    "            image = cv2.resize(image, (150, 150))\n",
    "            Images.append(image)\n",
    "            Labels.append(label)\n",
    "    \n",
    "    return shuffle(Images, Labels, random_state=42)\n",
    "\n",
    "def get_classlabel(class_code):\n",
    "    labels = {2:'glacier', 4:'sea', 0:'buildings', 1:'forest', 5:'street', 3:'mountain'}\n",
    "    \n",
    "    return labels[class_code]"
   ]
  },
  {
   "cell_type": "code",
   "execution_count": null,
   "metadata": {
    "_uuid": "02d98dc337916af5e96d7441b966de394a6ce2f8",
    "colab": {},
    "colab_type": "code",
    "id": "E2lzTukiD994"
   },
   "outputs": [],
   "source": [
    "#Extract the training images from the folders.\n",
    "Images, Labels = get_images('../input/seg_train/seg_train/')\n",
    "\n",
    "#converting the list of images to numpy array.\n",
    "Images = np.array(Images)\n",
    "Labels = np.array(Labels)"
   ]
  },
  {
   "cell_type": "markdown",
   "metadata": {
    "_uuid": "905a9db8c8dbb9d0d484db1dc7fc0e4047616633",
    "colab_type": "text",
    "id": "xYzCsT3eD996"
   },
   "source": [
    "View shape of the dataset"
   ]
  },
  {
   "cell_type": "code",
   "execution_count": null,
   "metadata": {
    "_uuid": "2576fdbadc9754b2f9a7ced3d746ab6ecf5e06aa",
    "colab": {
     "base_uri": "https://localhost:8080/",
     "height": 181
    },
    "colab_type": "code",
    "id": "Xwt2lYctD998",
    "outputId": "6e3a6d2e-cd53-4008-e14c-2df1cd5aa47c"
   },
   "outputs": [],
   "source": [
    "\n",
    "print(\"Shape of Images:\", Images.shape)\n",
    "print(\"Shape of Labels:\", Labels.shape)"
   ]
  },
  {
   "cell_type": "markdown",
   "metadata": {
    "_uuid": "34c0f25ba008f208ffc1d7ae35720b43a1c14239",
    "colab_type": "text",
    "id": "ElgPQtZSD99-"
   },
   "source": [
    "Some random images of our dataset."
   ]
  },
  {
   "cell_type": "code",
   "execution_count": null,
   "metadata": {
    "_uuid": "479729a0005f37957e4428897a8b8aa862c6c247",
    "colab": {},
    "colab_type": "code",
    "id": "jFiT1VlLD99-"
   },
   "outputs": [],
   "source": [
    "f,ax = plot.subplots(5,5) \n",
    "f.subplots_adjust(0,0,3,3)\n",
    "for i in range(0,5,1):\n",
    "    for j in range(0,5,1):\n",
    "        rnd_number = randint(0,len(Images))\n",
    "        ax[i,j].imshow(Images[rnd_number])\n",
    "        ax[i,j].set_title(get_classlabel(Labels[rnd_number]))\n",
    "        ax[i,j].axis('off')"
   ]
  },
  {
   "cell_type": "markdown",
   "metadata": {
    "_uuid": "b8b8ea230c599cb29e23712e84a6097f0a62ed22",
    "colab_type": "text",
    "id": "x1GMQTIcD9-A"
   },
   "source": [
    "CNN Model"
   ]
  },
  {
   "cell_type": "code",
   "execution_count": null,
   "metadata": {
    "_uuid": "9612c73f84ac75ac1af4f07bd6cf8306ceb21558",
    "colab": {},
    "colab_type": "code",
    "id": "_xKiXQTfD9-B"
   },
   "outputs": [],
   "source": [
    "model = Models.Sequential()\n",
    "\n",
    "model.add(Layers.Conv2D(200, kernel_size=(3,3), activation='relu', input_shape=(150,150,3)))\n",
    "model.add(Layers.Conv2D(180, kernel_size=(3,3), activation='relu'))\n",
    "model.add(Layers.MaxPool2D(5,5))\n",
    "model.add(Layers.Conv2D(180, kernel_size=(3,3), activation='relu'))\n",
    "model.add(Layers.Conv2D(140, kernel_size=(3,3), activation='relu'))\n",
    "model.add(Layers.Conv2D(100, kernel_size=(3,3), activation='relu'))\n",
    "model.add(Layers.Conv2D(50, kernel_size=(3,3), activation='relu'))\n",
    "model.add(Layers.MaxPool2D(5, 5))\n",
    "model.add(Layers.Flatten())\n",
    "model.add(Layers.Dense(180, activation='relu'))\n",
    "model.add(Layers.Dense(100, activation='relu'))\n",
    "model.add(Layers.Dense(50, activation='relu'))\n",
    "model.add(Layers.Dropout(rate=0.5))\n",
    "model.add(Layers.Dense(6, activation='softmax'))\n",
    "\n",
    "model.compile(\n",
    "    optimizer=Optimizer.Adam(lr=0.0001),\n",
    "    loss='sparse_categorical_crossentropy',\n",
    "    metrics=['accuracy']\n",
    ")\n",
    "\n",
    "model.summary()\n",
    "SVG(model_to_dot(model).create(prog='dot', format='svg'))\n",
    "Utils.plot_model(model, to_file='model.png', show_shapes=True)"
   ]
  },
  {
   "cell_type": "markdown",
   "metadata": {
    "_uuid": "4dcdddb30ee3c39766648738dfdb0f8209521fe9",
    "colab_type": "text",
    "id": "oX9rjgDZD9-C"
   },
   "source": [
    "Train the model with validation split equal to 30% from training data."
   ]
  },
  {
   "cell_type": "code",
   "execution_count": null,
   "metadata": {
    "_uuid": "a75627185debd77e0ff911bdb5743f1f6a17d960",
    "colab": {},
    "colab_type": "code",
    "id": "9x5kLirXD9-D"
   },
   "outputs": [],
   "source": [
    "trained = model.fit(Images, Labels, epochs=35, validation_split=0.30)"
   ]
  },
  {
   "cell_type": "code",
   "execution_count": null,
   "metadata": {
    "_uuid": "4b61a715110508d46b356a811df296e08d3b5b4a",
    "colab": {},
    "colab_type": "code",
    "id": "Jc-GBIR9D9-F"
   },
   "outputs": [],
   "source": [
    "plot.plot(trained.history['acc'])\n",
    "plot.plot(trained.history['val_acc'])\n",
    "plot.title('Model accuracy')\n",
    "plot.ylabel('Accuracy')\n",
    "plot.xlabel('Epoch')\n",
    "plot.legend(['Train', 'Test'], loc='upper left')\n",
    "plot.show()\n",
    "\n",
    "plot.plot(trained.history['loss'])\n",
    "plot.plot(trained.history['val_loss'])\n",
    "plot.title('Model loss')\n",
    "plot.ylabel('Loss')\n",
    "plot.xlabel('Epoch')\n",
    "plot.legend(['Train', 'Test'], loc='upper left')\n",
    "plot.show()"
   ]
  },
  {
   "cell_type": "markdown",
   "metadata": {
    "_uuid": "89609ad0361ab8b12c45dc151b873bf95842a792",
    "colab_type": "text",
    "id": "TtQfNaAuD9-G"
   },
   "source": [
    "Accuracy is used to evaluate the performance of the model."
   ]
  },
  {
   "cell_type": "code",
   "execution_count": null,
   "metadata": {
    "_uuid": "82666c897661762e3908ee4d4095610b668ef62f",
    "colab": {},
    "colab_type": "code",
    "id": "fP4dOWbxD9-H"
   },
   "outputs": [],
   "source": [
    "test_images,test_labels = get_images('../input/seg_test/seg_test/')\n",
    "test_images = np.array(test_images)\n",
    "test_labels = np.array(test_labels)\n",
    "model.evaluate(test_images,test_labels, verbose=1)"
   ]
  },
  {
   "cell_type": "markdown",
   "metadata": {
    "_uuid": "efad7019f7e6dcc3fbfb35f1ab17425b85f6bf8d",
    "colab_type": "text",
    "id": "E89V5dXjD9-I"
   },
   "source": [
    "Lets predict the images from the \"pred\" folder."
   ]
  },
  {
   "cell_type": "code",
   "execution_count": null,
   "metadata": {
    "_uuid": "9e2a4d6747da463b284ad009e5753fb97fccd166",
    "colab": {},
    "colab_type": "code",
    "id": "SISRMpNeD9-J"
   },
   "outputs": [],
   "source": [
    "pred_images,no_labels = get_images('../input/seg_pred/')\n",
    "pred_images = np.array(pred_images)\n",
    "pred_images.shape"
   ]
  },
  {
   "cell_type": "markdown",
   "metadata": {
    "_uuid": "00d5181b2b8f5339577b951c796bca92ec2e26c8",
    "colab_type": "text",
    "id": "aOAq9Jn6D9-L"
   },
   "source": [
    "Following image shows the predicted class label on top of the image and probabilities below of the image."
   ]
  },
  {
   "cell_type": "code",
   "execution_count": null,
   "metadata": {
    "_uuid": "45898e80fa69b1e2fda8f562aac811dfc62b9efb",
    "colab": {},
    "colab_type": "code",
    "id": "-2ZwCKvGD9-L"
   },
   "outputs": [],
   "source": [
    "fig = plot.figure(figsize=(30, 30))\n",
    "outer = gridspec.GridSpec(5, 5, wspace=0.2, hspace=0.2)\n",
    "\n",
    "for i in range(25):\n",
    "    inner = gridspec.GridSpecFromSubplotSpec(2, 1,subplot_spec=outer[i], wspace=0.1, hspace=0.1)\n",
    "    rnd_number = randint(0, len(pred_images))\n",
    "    pred_image = np.array([pred_images[rnd_number]])\n",
    "    pred_class = get_classlabel(model.predict_classes(pred_image)[0])\n",
    "    pred_prob = model.predict(pred_image).reshape(6)\n",
    "    for j in range(2):\n",
    "        if (j % 2) == 0:\n",
    "            ax = plot.Subplot(fig, inner[j])\n",
    "            ax.imshow(pred_image[0])\n",
    "            ax.set_title(pred_class)\n",
    "            ax.set_xticks([])\n",
    "            ax.set_yticks([])\n",
    "            fig.add_subplot(ax)\n",
    "        else:\n",
    "            ax = plot.Subplot(fig, inner[j])\n",
    "            ax.bar([0,1,2,3,4,5],pred_prob)\n",
    "            fig.add_subplot(ax)\n",
    "\n",
    "\n",
    "fig.show()"
   ]
  }
 ],
 "metadata": {
  "colab": {
   "collapsed_sections": [],
   "name": "kernelc9a81ed1be.ipynb",
   "provenance": []
  },
  "kernelspec": {
   "display_name": "Python 3",
   "language": "python",
   "name": "python3"
  },
  "language_info": {
   "codemirror_mode": {
    "name": "ipython",
    "version": 3
   },
   "file_extension": ".py",
   "mimetype": "text/x-python",
   "name": "python",
   "nbconvert_exporter": "python",
   "pygments_lexer": "ipython3",
   "version": "3.6.8"
  }
 },
 "nbformat": 4,
 "nbformat_minor": 1
}
